{
 "cells": [
  {
   "cell_type": "code",
   "execution_count": null,
   "id": "unlimited-union",
   "metadata": {},
   "outputs": [],
   "source": [
    "from depoco.plot_results import *\n",
    "path = '../experiments/results/kitti/'\n",
    "files = sorted(glob.glob(path+'*.pkl'))\n",
    "\n",
    "f, ax = plt.subplots(2, 2)\n",
    "ax = ax.flatten()\n",
    "f.suptitle('Kitti Results')\n",
    "genPlots(files, f, ax, draw_line=True, label='our', x_key='bpp')\n",
    "for a in ax:\n",
    "    a.grid()\n",
    "    # a.set_ylim([0,None])\n",
    "    a.legend()\n",
    "plt.tight_layout()\n",
    "plt.show()\n"
   ]
  }
 ],
 "metadata": {
  "kernelspec": {
   "display_name": "Python 3",
   "language": "python",
   "name": "python3"
  },
  "language_info": {
   "codemirror_mode": {
    "name": "ipython",
    "version": 3
   },
   "file_extension": ".py",
   "mimetype": "text/x-python",
   "name": "python",
   "nbconvert_exporter": "python",
   "pygments_lexer": "ipython3",
   "version": "3.8.5"
  }
 },
 "nbformat": 4,
 "nbformat_minor": 5
}
